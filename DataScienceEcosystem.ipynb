{
 "cells": [
  {
   "cell_type": "markdown",
   "id": "6b292f2e-5c95-4e64-88e4-67dad905e84b",
   "metadata": {},
   "source": [
    "H1Author:\n",
    "  H2MohamedKhalid\n"
   ]
  }
 ],
 "metadata": {
  "kernelspec": {
   "display_name": "Python",
   "language": "python",
   "name": "conda-env-python-py"
  },
  "language_info": {
   "codemirror_mode": {
    "name": "ipython",
    "version": 3
   },
   "file_extension": ".py",
   "mimetype": "text/x-python",
   "name": "python",
   "nbconvert_exporter": "python",
   "pygments_lexer": "ipython3",
   "version": "3.7.12"
  }
 },
 "nbformat": 4,
 "nbformat_minor": 5
}
